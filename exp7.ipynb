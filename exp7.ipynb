import numpy as np 
import pandas as pd 
import matplotlib.pyplot as plt 
import seaborn as sns 
from sklearn.model_selection import train_test_split 
from sklearn.linear_model import LinearRegression 
from sklearn.preprocessing import PolynomialFeatures, StandardScaler 
from sklearn.metrics import mean_squared_error 
from sklearn.datasets import fetch_california_housing 
from sklearn.pipeline import make_pipeline 
# ========================= 
# Linear Regression: California Housing 
# ========================= 
print("\nPerforming Linear Regression on California Housing Dataset\n") 
# Load and split dataset 
housing = fetch_california_housing() 
X, y = housing.data, housing.target 
X_train, X_test, y_train, y_test = train_test_split(X, y, test_size=0.2, random_state=42) 
# Standardize features 
scaler = StandardScaler() 
X_train_scaled = scaler.fit_transform(X_train) 
X_test_scaled = scaler.transform(X_test) 
# Train model 
model_lr = LinearRegression() 
model_lr.fit(X_train_scaled, y_train) 
y_pred = model_lr.predict(X_test_scaled) 
# Evaluate 
mse = mean_squared_error(y_test, y_pred) 
print(f"Linear Regression MSE: {mse:.4f}") 
# Plot results 
plt.scatter(y_test, y_pred, alpha=0.5, color='blue') 
plt.plot([min(y_test), max(y_test)], [min(y_test), max(y_test)], 
color='red', linestyle='--') 
plt.xlabel("Actual Values") 
plt.ylabel("Predicted Values") 
plt.title("Linear Regression: Actual vs Predicted") 
plt.grid(True) 
plt.show() 
# ========================= 
# Polynomial Regression: Auto MPG 
# ========================= 
print("\nPerforming Polynomial Regression on Auto MPG Dataset\n") 
# Load dataset using seaborn 
df = sns.load_dataset("mpg").dropna() 
# Select features and target 
X = df[['horsepower']].astype(float) 
y = df['mpg'] 
# Train/test split 
X_train, X_test, y_train, y_test = train_test_split(X, y, test_size=0.2, random_state=42) 
# Degree of polynomial 
degree = 3 
# Train polynomial regression 
poly_model = make_pipeline(PolynomialFeatures(degree), LinearRegression()) 
poly_model.fit(X_train, y_train) 
y_poly_pred = poly_model.predict(X_test) 
# Evaluate 
poly_mse = mean_squared_error(y_test, y_poly_pred) 
print(f"Polynomial Regression (degree {degree}) MSE: {poly_mse:.4f}") 
# Plot results 
plt.scatter(X_test, y_test, color='blue', label='Actual') 
sorted_idx = np.argsort(X_test.values.flatten()) 
plt.plot(X_test.values.flatten()[sorted_idx], 
y_poly_pred[sorted_idx], color='red', label='Polynomial Fit') 
plt.xlabel("Horsepower") 
plt.ylabel("MPG") 
plt.title(f"Polynomial Regression (Degree {degree})") 
plt.legend() 
plt.grid(True) 
plt.show() 
